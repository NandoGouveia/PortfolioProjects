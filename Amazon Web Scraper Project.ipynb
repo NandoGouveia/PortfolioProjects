{
 "cells": [
  {
   "cell_type": "code",
   "execution_count": 1,
   "id": "9edb8160",
   "metadata": {},
   "outputs": [],
   "source": [
    "#import libraries\n",
    "\n",
    "from bs4 import BeautifulSoup\n",
    "import requests\n",
    "import time\n",
    "import datetime\n",
    "\n",
    "import smtplib\n"
   ]
  },
  {
   "cell_type": "code",
   "execution_count": 39,
   "id": "55d0aa79",
   "metadata": {},
   "outputs": [
    {
     "name": "stdout",
     "output_type": "stream",
     "text": [
      "\n",
      "                   Just explaining why I'm right Funny Data Analyst T-Shirt\n",
      "                  \n",
      "\n",
      "\n",
      "\n",
      "\n",
      "\n",
      "                  £17.49\n",
      "                 \n",
      "\n",
      "\n",
      "                   £\n",
      "                  \n",
      "\n",
      "                   17\n",
      "                   \n",
      "                    .\n",
      "                   \n",
      "\n",
      "\n",
      "                   49\n",
      "                  \n",
      "\n",
      "\n",
      "\n",
      "\n",
      "\n",
      "\n",
      "\n",
      "\n",
      "\n",
      "\n",
      "\n",
      "\n"
     ]
    }
   ],
   "source": [
    "#Connecting to website (obtaining the pages HTML - using soup1)\n",
    "\n",
    "URL = 'https://www.amazon.co.uk/explaining-right-Funny-Analyst-T-Shirt/dp/B08XYL6GRM/ref=sr_1_2?crid=3V2YP9EGWBIBY&keywords=data%2Banalyst%2Btshirt&qid=1672838552&sprefix=data%2Banalyst%2Btshirt%2Caps%2C69&sr=8-2'\n",
    "\n",
    "headers = {\"User-Agent\": \"Mozilla/5.0 (Windows NT 10.0; Win64; x64) AppleWebKit/537.36 (KHTML, like Gecko) Chrome/78.0.3904.108 Safari/537.36\", \"Accept-Encoding\":\"gzip, deflate\", \"Accept\":\"text/html,application/xhtml+xml,application/xml;q=0.9,*/*;q=0.8\", \"DNT\":\"1\",\"Connection\":\"close\", \"Upgrade-Insecure-Requests\":\"1\"}\n",
    "\n",
    "page = requests.get(URL, headers=headers)\n",
    "\n",
    "soup1 = BeautifulSoup(page.content, \"html.parser\")  #BeautifulSoup pulls data from website\n",
    "\n",
    "soup2 = BeautifulSoup(soup1.prettify(), \"html.parser\") #For better format\n",
    "\n",
    "title = soup2.find(id='productTitle').get_text()\n",
    "\n",
    "price = soup2.find(id='corePriceDisplay_desktop_feature_div').get_text()\n",
    "\n",
    "print(title)\n",
    "print(price)\n",
    "                        #uncleaned output:"
   ]
  },
  {
   "cell_type": "code",
   "execution_count": 40,
   "id": "3972b5cc",
   "metadata": {},
   "outputs": [
    {
     "name": "stdout",
     "output_type": "stream",
     "text": [
      "Just explaining why I'm right Funny Data Analyst T-Shirt\n",
      "17.49\n",
      "   \n"
     ]
    }
   ],
   "source": [
    "#cleaning the output:\n",
    "\n",
    "title = title.strip()\n",
    "print(title)\n",
    "\n",
    "price = price.strip()[1:10]\n",
    "print(price)"
   ]
  },
  {
   "cell_type": "code",
   "execution_count": 44,
   "id": "7a4ea5c2",
   "metadata": {},
   "outputs": [
    {
     "name": "stdout",
     "output_type": "stream",
     "text": [
      "2023-01-04\n"
     ]
    }
   ],
   "source": [
    "#creating a time stamp of when data was imported\n",
    "\n",
    "today = datetime.date.today()\n",
    "print(today)"
   ]
  },
  {
   "cell_type": "code",
   "execution_count": 45,
   "id": "52b083ef",
   "metadata": {},
   "outputs": [],
   "source": [
    "import csv\n",
    "\n",
    "header = ['Title','Price','Date']\n",
    "data = [title, price, today]\n",
    "\n",
    "#with open('AmazonWebScraperDataset.csv', 'w', newline = '', encoding ='UTF8') as f:\n",
    "    #writer = csv.writer(f)     #creating the CSV\n",
    "    #writer.writerow(header)    #inserting the header\n",
    "    #writer.writerow(data)      #inserting the data\n",
    "    \n",
    "    #this will have created a new dataset in a csv file once it is run."
   ]
  },
  {
   "cell_type": "code",
   "execution_count": 46,
   "id": "e1a13332",
   "metadata": {},
   "outputs": [
    {
     "name": "stdout",
     "output_type": "stream",
     "text": [
      "                                               Title  Price\n",
      "0  Just explaining why I'm right Funny Data Analy...  17.49\n"
     ]
    }
   ],
   "source": [
    "import pandas as pd\n",
    "\n",
    "df = pd.read_csv(r'C:\\Users\\nando\\OneDrive\\Documentos\\AmazonWebScraperDataset.csv')\n",
    "print(df)"
   ]
  },
  {
   "cell_type": "code",
   "execution_count": 50,
   "id": "f7c44703",
   "metadata": {},
   "outputs": [],
   "source": [
    "#now we are appending data to the csv (changing the 'w' into an a+ within the open() method)\n",
    "#Having to manually update it is not the most efficient way, so we can automate it:\n",
    "\n",
    "with open('AmazonWebScraperDataset.csv', 'a+', newline = '', encoding ='UTF8') as f:\n",
    "    writer = csv.writer(f)     #creating the CSV\n",
    "    writer.writerow(data)      #inserting the data\n",
    "    \n"
   ]
  },
  {
   "cell_type": "code",
   "execution_count": 53,
   "id": "a53afe90",
   "metadata": {},
   "outputs": [],
   "source": [
    "#Putting all the necessary code above inside a function\n",
    "\n",
    "def check_price():\n",
    "    URL = 'https://www.amazon.co.uk/explaining-right-Funny-Analyst-T-Shirt/dp/B08XYL6GRM/ref=sr_1_2?crid=3V2YP9EGWBIBY&keywords=data%2Banalyst%2Btshirt&qid=1672838552&sprefix=data%2Banalyst%2Btshirt%2Caps%2C69&sr=8-2'\n",
    "\n",
    "    headers = {\"User-Agent\": \"Mozilla/5.0 (Windows NT 10.0; Win64; x64) AppleWebKit/537.36 (KHTML, like Gecko) Chrome/78.0.3904.108 Safari/537.36\", \"Accept-Encoding\":\"gzip, deflate\", \"Accept\":\"text/html,application/xhtml+xml,application/xml;q=0.9,*/*;q=0.8\", \"DNT\":\"1\",\"Connection\":\"close\", \"Upgrade-Insecure-Requests\":\"1\"}\n",
    "\n",
    "    page = requests.get(URL, headers=headers)\n",
    "\n",
    "    soup1 = BeautifulSoup(page.content, \"html.parser\")  #BeautifulSoup pulls data from website\n",
    "\n",
    "    soup2 = BeautifulSoup(soup1.prettify(), \"html.parser\") #For better format\n",
    "\n",
    "    title = soup2.find(id='productTitle').get_text()\n",
    "\n",
    "    price = soup2.find(id='corePriceDisplay_desktop_feature_div').get_text()\n",
    "    \n",
    "    title = title.strip()\n",
    "    price = price.strip()[1:10]\n",
    "    \n",
    "    import datetime\n",
    "    \n",
    "    today = datetime.date.today()\n",
    "    \n",
    "    import csv\n",
    "\n",
    "    header = ['Title','Price','Date']\n",
    "    data = [title, price, today]\n",
    "    \n",
    "    with open('AmazonWebScraperDataset.csv', 'a+', newline = '', encoding ='UTF8') as f:\n",
    "        writer = csv.writer(f)     \n",
    "        writer.writerow(data)      #inserting the data\n",
    "        \n",
    "    if(price < 17):\n",
    "        send_mail()"
   ]
  },
  {
   "cell_type": "code",
   "execution_count": null,
   "id": "10f027d7",
   "metadata": {},
   "outputs": [],
   "source": [
    "#Having to manually update it is not the most efficient way, so we can automate it:\n",
    "\n",
    "while(True):\n",
    "    check_price()\n",
    "    time.sleep(86400)\n",
    "    \n",
    "#every 86400 seconds (one day), it will automatically run and obtain the updated data."
   ]
  },
  {
   "cell_type": "code",
   "execution_count": null,
   "id": "c014369e",
   "metadata": {},
   "outputs": [],
   "source": [
    "import pandas as pd\n",
    "\n",
    "df = pd.read_csv(r'C:\\Users\\nando\\OneDrive\\Documentos\\AmazonWebScraperDataset.csv')\n",
    "print(df)"
   ]
  },
  {
   "cell_type": "code",
   "execution_count": null,
   "id": "2b1d82a7",
   "metadata": {},
   "outputs": [],
   "source": [
    "#extra:\n",
    "\n",
    "def send_mail():\n",
    "    server = smtplib.SMTP_SSL('smtp.hotmail.com',465)\n",
    "    server.ehlo()\n",
    "    #server.starttls()\n",
    "    server.ehlo()\n",
    "    server.login('nandogouveia1@hotmail.com','xxxxxxxxxxxxxx')\n",
    "    \n",
    "    subject = \"The Shirt you want is below $17! Now is your chance to buy!\"\n",
    "    body = \"Nando, This is the moment we have been waiting for. Now is your chance to pick up the shirt of your dreams. Don't mess it up! Link here: https://www.amazon.co.uk/explaining-right-Funny-Analyst-T-Shirt/dp/B08XYL6GRM/ref=sr_1_2?crid=3V2YP9EGWBIBY&keywords=data%2Banalyst%2Btshirt&qid=1672838552&sprefix=data%2Banalyst%2Btshirt%2Caps%2C69&sr=8-2&customId=B07536XX75&customizationToken=MC_Assembly_1%23B07536XX75&th=1\"\n",
    "   \n",
    "    msg = f\"Subject: {subject}\\n\\n{body}\"\n",
    "    \n",
    "    server.sendmail(\n",
    "        'nandogouveia1@hotmail.com',\n",
    "        msg\n",
    "     \n",
    "    )"
   ]
  }
 ],
 "metadata": {
  "kernelspec": {
   "display_name": "Python 3 (ipykernel)",
   "language": "python",
   "name": "python3"
  },
  "language_info": {
   "codemirror_mode": {
    "name": "ipython",
    "version": 3
   },
   "file_extension": ".py",
   "mimetype": "text/x-python",
   "name": "python",
   "nbconvert_exporter": "python",
   "pygments_lexer": "ipython3",
   "version": "3.9.13"
  }
 },
 "nbformat": 4,
 "nbformat_minor": 5
}
